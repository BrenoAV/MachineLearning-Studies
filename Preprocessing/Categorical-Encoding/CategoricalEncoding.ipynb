{
 "cells": [
  {
   "cell_type": "markdown",
   "id": "b1652138-ac1d-47de-82cd-d6875d354ff7",
   "metadata": {},
   "source": [
    "# Categorical Encoding\n",
    "\n",
    "**Video reference:** [Ana Chaloska - To One-Hot or Not: A guide to feature encoding and when to use what | PDAMS 2023](https://www.youtube.com/watch?v=4Opsiqj6gcY&list=WL)\n",
    "\n",
    "**Author:** BrenoAV\n",
    "\n",
    "**Last date modified:** 11-29-2023"
   ]
  },
  {
   "cell_type": "markdown",
   "id": "26bdf605-5a7c-45b7-8a44-989c9edffd18",
   "metadata": {},
   "source": [
    "# Libraries"
   ]
  },
  {
   "cell_type": "code",
   "execution_count": 1,
   "id": "3b6b560d-c543-4efe-8de2-36b91595ab59",
   "metadata": {},
   "outputs": [],
   "source": [
    "import pandas as pd"
   ]
  },
  {
   "cell_type": "markdown",
   "id": "59d740d7-08ae-4b70-bcbd-ebea90632c6f",
   "metadata": {},
   "source": [
    "# Ordinal Encoding"
   ]
  },
  {
   "cell_type": "code",
   "execution_count": 2,
   "id": "c8b82a36-a53a-4d77-8cf6-cce967e0f648",
   "metadata": {},
   "outputs": [],
   "source": [
    "from sklearn.preprocessing import OrdinalEncoder"
   ]
  },
  {
   "cell_type": "code",
   "execution_count": 3,
   "id": "5adf558e-f09f-4c0b-9fca-4ce432b6bc14",
   "metadata": {},
   "outputs": [
    {
     "name": "stdout",
     "output_type": "stream",
     "text": [
      "--- Before ---\n",
      "  education_level\n",
      "0             BCs\n",
      "1             MSc\n",
      "2             PhD\n",
      "3             MSc\n",
      "4             PhD\n"
     ]
    }
   ],
   "source": [
    "df = pd.DataFrame(data=[\"BCs\", \"MSc\", \"PhD\", \"MSc\", \"PhD\"],\n",
    "                          columns=[\"education_level\"])\n",
    "print(\"--- Before ---\")\n",
    "print(df)"
   ]
  },
  {
   "cell_type": "code",
   "execution_count": 4,
   "id": "2a35126d-9a40-4d2c-a520-38fbc6366933",
   "metadata": {},
   "outputs": [
    {
     "name": "stdout",
     "output_type": "stream",
     "text": [
      "--- After ---\n",
      "  education_level  ordinal\n",
      "0             BCs      0.0\n",
      "1             MSc      1.0\n",
      "2             PhD      2.0\n",
      "3             MSc      1.0\n",
      "4             PhD      2.0\n"
     ]
    }
   ],
   "source": [
    "enc = OrdinalEncoder(categories=[[\"BCs\", \"MSc\", \"PhD\"]])\n",
    "ordinal_df = enc.fit_transform(df)\n",
    "df[\"ordinal\"] = ordinal_df\n",
    "print(\"--- After ---\")\n",
    "print(df)"
   ]
  },
  {
   "cell_type": "markdown",
   "id": "6ba3f038-4600-49cb-973b-71af23b0e7fe",
   "metadata": {},
   "source": [
    "✅ It is good to use when the data have some degree related to the other, for example, having PhD could be more important than BCs. \n",
    "\n",
    "🚫 Not good when the information is not ordinal, for example, the color of eyes."
   ]
  },
  {
   "cell_type": "markdown",
   "id": "90a4da47-a1cd-470a-b9b9-ca0e958752a2",
   "metadata": {},
   "source": [
    "# Frequency Encoder"
   ]
  },
  {
   "cell_type": "code",
   "execution_count": 5,
   "id": "890bd17c-62e8-45a1-a80a-ae498d44be34",
   "metadata": {},
   "outputs": [
    {
     "name": "stdout",
     "output_type": "stream",
     "text": [
      "--- Before ---\n",
      "  sold_product\n",
      "0        chair\n",
      "1        table\n",
      "2        chair\n",
      "3        chair\n",
      "4        table\n",
      "5        plate\n"
     ]
    }
   ],
   "source": [
    "df = pd.DataFrame(data=[\"chair\", \"table\", \"chair\", \"chair\", \"table\", \"plate\"],\n",
    "                          columns=[\"sold_product\"])\n",
    "print(\"--- Before ---\")\n",
    "print(df)"
   ]
  },
  {
   "cell_type": "code",
   "execution_count": 6,
   "id": "a79a604d-cef6-48c5-bfc9-89c63b2137a3",
   "metadata": {},
   "outputs": [
    {
     "name": "stdout",
     "output_type": "stream",
     "text": [
      "--- After ---\n",
      "  sold_product  frequency\n",
      "0        chair          3\n",
      "1        table          2\n",
      "2        chair          3\n",
      "3        chair          3\n",
      "4        table          2\n",
      "5        plate          1\n"
     ]
    }
   ],
   "source": [
    "df[\"frequency\"] = df[\"sold_product\"].apply(lambda x: df.value_counts()[x])\n",
    "print(\"--- After ---\")\n",
    "print(df)"
   ]
  },
  {
   "cell_type": "markdown",
   "id": "d7147c6b-06c3-4651-9b22-44294acd2663",
   "metadata": {},
   "source": [
    "**Note: Another way to do &rarr; feature_engine.encoding.CountFrequencyEncoder**\n",
    "\n",
    "✅ It's good to reduce the high cardinality, to become more simple to the model to find a pattern\n",
    "\n",
    "🚫 Not good when the data has multiple items has same frequency (worst case is everything occurs in the same amount)"
   ]
  },
  {
   "cell_type": "markdown",
   "id": "463c1ccd-1f92-4e57-b163-50fde30f2a92",
   "metadata": {},
   "source": [
    "# One-Hot Encoding"
   ]
  },
  {
   "cell_type": "code",
   "execution_count": 7,
   "id": "faef5ccc-cd02-4cde-b53b-4fa67c102eeb",
   "metadata": {},
   "outputs": [],
   "source": [
    "from sklearn.preprocessing import OneHotEncoder"
   ]
  },
  {
   "cell_type": "code",
   "execution_count": 8,
   "id": "bd308232-6dbf-43d8-bb8d-11d6d6f188b5",
   "metadata": {},
   "outputs": [
    {
     "name": "stdout",
     "output_type": "stream",
     "text": [
      "--- Before ---\n",
      "  eye_color\n",
      "0     brown\n",
      "1      blue\n",
      "2     green\n",
      "3     black\n",
      "4     green\n",
      "5     brown\n"
     ]
    }
   ],
   "source": [
    "df = pd.DataFrame(data=[\"brown\", \"blue\", \"green\", \"black\", \"green\", \"brown\"],\n",
    "                          columns=[\"eye_color\"])\n",
    "print(\"--- Before ---\")\n",
    "print(df)"
   ]
  },
  {
   "cell_type": "code",
   "execution_count": 9,
   "id": "d9295187-8e94-4d77-a18b-d40edd9418b3",
   "metadata": {},
   "outputs": [
    {
     "name": "stdout",
     "output_type": "stream",
     "text": [
      "--- After ---\n",
      "  eye_color  eye_color_black  eye_color_blue  eye_color_brown  eye_color_green\n",
      "0     brown              0.0             0.0              1.0              0.0\n",
      "1      blue              0.0             1.0              0.0              0.0\n",
      "2     green              0.0             0.0              0.0              1.0\n",
      "3     black              1.0             0.0              0.0              0.0\n",
      "4     green              0.0             0.0              0.0              1.0\n",
      "5     brown              0.0             0.0              1.0              0.0\n"
     ]
    }
   ],
   "source": [
    "enc = OneHotEncoder()\n",
    "onehot_df = enc.fit_transform(df[\"eye_color\"].values.reshape(-1, 1))\n",
    "onehot_features = enc.get_feature_names_out([\"eye_color\"])\n",
    "df[onehot_features] = onehot_df.toarray()\n",
    "print(\"--- After ---\")\n",
    "print(df)"
   ]
  },
  {
   "cell_type": "markdown",
   "id": "608675c3-1b86-48bb-8d05-f18d6c50a8e9",
   "metadata": {},
   "source": [
    "**For Pandas, it is practical to use:** [https://pandas.pydata.org/docs/reference/api/pandas.get_dummies.html](https://pandas.pydata.org/docs/reference/api/pandas.get_dummies.html)\n",
    "\n",
    "✅ Efficient when the data has low cardinality\n",
    "\n",
    "🚫 Not efficient and not recommended when the data has high cardinality because create many columns with a sparse matrix. For example, creating using the number of days in a year (1-365) will create 365 columns"
   ]
  },
  {
   "cell_type": "markdown",
   "id": "a0f9e295-5b62-4050-9a7e-6502ea300245",
   "metadata": {},
   "source": [
    "# Rare Label Encoding"
   ]
  },
  {
   "cell_type": "code",
   "execution_count": 10,
   "id": "2734814a-8195-44f3-bcce-acd6bf72889a",
   "metadata": {
    "scrolled": true
   },
   "outputs": [
    {
     "name": "stdout",
     "output_type": "stream",
     "text": [
      "Requirement already satisfied: feature-engine in /home/brenoav/miniconda3/lib/python3.11/site-packages (1.6.2)\n",
      "Requirement already satisfied: numpy>=1.18.2 in /home/brenoav/miniconda3/lib/python3.11/site-packages (from feature-engine) (1.26.1)\n",
      "Requirement already satisfied: pandas>=1.0.3 in /home/brenoav/miniconda3/lib/python3.11/site-packages (from feature-engine) (2.1.1)\n",
      "Requirement already satisfied: scikit-learn>=1.0.0 in /home/brenoav/miniconda3/lib/python3.11/site-packages (from feature-engine) (1.3.2)\n",
      "Requirement already satisfied: scipy>=1.4.1 in /home/brenoav/miniconda3/lib/python3.11/site-packages (from feature-engine) (1.11.3)\n",
      "Requirement already satisfied: statsmodels>=0.11.1 in /home/brenoav/miniconda3/lib/python3.11/site-packages (from feature-engine) (0.14.0)\n",
      "Requirement already satisfied: python-dateutil>=2.8.2 in /home/brenoav/miniconda3/lib/python3.11/site-packages (from pandas>=1.0.3->feature-engine) (2.8.2)\n",
      "Requirement already satisfied: pytz>=2020.1 in /home/brenoav/miniconda3/lib/python3.11/site-packages (from pandas>=1.0.3->feature-engine) (2023.3.post1)\n",
      "Requirement already satisfied: tzdata>=2022.1 in /home/brenoav/miniconda3/lib/python3.11/site-packages (from pandas>=1.0.3->feature-engine) (2023.3)\n",
      "Requirement already satisfied: joblib>=1.1.1 in /home/brenoav/miniconda3/lib/python3.11/site-packages (from scikit-learn>=1.0.0->feature-engine) (1.3.2)\n",
      "Requirement already satisfied: threadpoolctl>=2.0.0 in /home/brenoav/miniconda3/lib/python3.11/site-packages (from scikit-learn>=1.0.0->feature-engine) (3.2.0)\n",
      "Requirement already satisfied: patsy>=0.5.2 in /home/brenoav/miniconda3/lib/python3.11/site-packages (from statsmodels>=0.11.1->feature-engine) (0.5.3)\n",
      "Requirement already satisfied: packaging>=21.3 in /home/brenoav/miniconda3/lib/python3.11/site-packages (from statsmodels>=0.11.1->feature-engine) (23.1)\n",
      "Requirement already satisfied: six in /home/brenoav/miniconda3/lib/python3.11/site-packages (from patsy>=0.5.2->statsmodels>=0.11.1->feature-engine) (1.16.0)\n"
     ]
    }
   ],
   "source": [
    "!pip install feature-engine"
   ]
  },
  {
   "cell_type": "code",
   "execution_count": 11,
   "id": "cac0ce71-a458-4e29-ae80-8e76d38a1f0b",
   "metadata": {},
   "outputs": [],
   "source": [
    "from feature_engine.encoding.rare_label import RareLabelEncoder"
   ]
  },
  {
   "cell_type": "code",
   "execution_count": 12,
   "id": "30517528-3e88-42c4-a838-40bfde44b929",
   "metadata": {},
   "outputs": [
    {
     "name": "stdout",
     "output_type": "stream",
     "text": [
      "--- Before ---\n",
      "   payment_method\n",
      "0           ideal\n",
      "1          klarna\n",
      "2     credit_card\n",
      "3     credit_card\n",
      "4           ideal\n",
      "5          klarna\n",
      "6             EPS\n",
      "7          klarna\n",
      "8           ideal\n",
      "9          Sofort\n",
      "10    credit_card\n",
      "11        Belfius\n"
     ]
    }
   ],
   "source": [
    "df = pd.DataFrame(data=[\"ideal\", \"klarna\", \"credit_card\", \"credit_card\", \"ideal\", \"klarna\",\n",
    "                        \"EPS\", \"klarna\", \"ideal\", \"Sofort\", \"credit_card\", \"Belfius\"],\n",
    "                  columns=[\"payment_method\"])\n",
    "print(\"--- Before ---\")\n",
    "print(df)"
   ]
  },
  {
   "cell_type": "code",
   "execution_count": 13,
   "id": "b8f62352-cc38-4340-a987-ad59886d3478",
   "metadata": {},
   "outputs": [
    {
     "name": "stdout",
     "output_type": "stream",
     "text": [
      "--- After ---\n",
      "   payment_method         rare\n",
      "0           ideal        ideal\n",
      "1          klarna       klarna\n",
      "2     credit_card  credit_card\n",
      "3     credit_card  credit_card\n",
      "4           ideal        ideal\n",
      "5          klarna       klarna\n",
      "6             EPS         Rare\n",
      "7          klarna       klarna\n",
      "8           ideal        ideal\n",
      "9          Sofort         Rare\n",
      "10    credit_card  credit_card\n",
      "11        Belfius         Rare\n"
     ]
    }
   ],
   "source": [
    "rle = RareLabelEncoder(n_categories=3, tol=0.1)\n",
    "rare_df = rle.fit_transform(df[[\"payment_method\"]])\n",
    "df[\"rare\"] = rare_df\n",
    "print(\"--- After ---\")\n",
    "print(df)"
   ]
  },
  {
   "cell_type": "markdown",
   "id": "e1859d75-42ac-4c33-a240-a23b9017a5f0",
   "metadata": {},
   "source": [
    "**Note: you need to after rare encoding apply another encoding because is a categorical encoding**\n",
    "\n",
    "✅ Efficient when the data has high cardinality (reduce)\n",
    "✅ It's good for representing the categories that have low observability\n",
    "\n",
    "🚫 Be careful because the 'Rare' is meaningful, for example, imagine that you have a new product and this new product will be considered as 'Rare' and will not give the chance to be considered. Avoid blindly allocated to 'Rare' case."
   ]
  },
  {
   "cell_type": "markdown",
   "id": "cb5bd63e-2f4e-411f-a21a-eeb2dfc81794",
   "metadata": {},
   "source": [
    "# Hash Encoding"
   ]
  },
  {
   "cell_type": "code",
   "execution_count": 14,
   "id": "87e59069-dd02-44db-8e80-5eae629bc79b",
   "metadata": {
    "scrolled": true
   },
   "outputs": [
    {
     "name": "stdout",
     "output_type": "stream",
     "text": [
      "Requirement already satisfied: category_encoders in /home/brenoav/miniconda3/lib/python3.11/site-packages (2.6.3)\n",
      "Requirement already satisfied: numpy>=1.14.0 in /home/brenoav/miniconda3/lib/python3.11/site-packages (from category_encoders) (1.26.1)\n",
      "Requirement already satisfied: scikit-learn>=0.20.0 in /home/brenoav/miniconda3/lib/python3.11/site-packages (from category_encoders) (1.3.2)\n",
      "Requirement already satisfied: scipy>=1.0.0 in /home/brenoav/miniconda3/lib/python3.11/site-packages (from category_encoders) (1.11.3)\n",
      "Requirement already satisfied: statsmodels>=0.9.0 in /home/brenoav/miniconda3/lib/python3.11/site-packages (from category_encoders) (0.14.0)\n",
      "Requirement already satisfied: pandas>=1.0.5 in /home/brenoav/miniconda3/lib/python3.11/site-packages (from category_encoders) (2.1.1)\n",
      "Requirement already satisfied: patsy>=0.5.1 in /home/brenoav/miniconda3/lib/python3.11/site-packages (from category_encoders) (0.5.3)\n",
      "Requirement already satisfied: python-dateutil>=2.8.2 in /home/brenoav/miniconda3/lib/python3.11/site-packages (from pandas>=1.0.5->category_encoders) (2.8.2)\n",
      "Requirement already satisfied: pytz>=2020.1 in /home/brenoav/miniconda3/lib/python3.11/site-packages (from pandas>=1.0.5->category_encoders) (2023.3.post1)\n",
      "Requirement already satisfied: tzdata>=2022.1 in /home/brenoav/miniconda3/lib/python3.11/site-packages (from pandas>=1.0.5->category_encoders) (2023.3)\n",
      "Requirement already satisfied: six in /home/brenoav/miniconda3/lib/python3.11/site-packages (from patsy>=0.5.1->category_encoders) (1.16.0)\n",
      "Requirement already satisfied: joblib>=1.1.1 in /home/brenoav/miniconda3/lib/python3.11/site-packages (from scikit-learn>=0.20.0->category_encoders) (1.3.2)\n",
      "Requirement already satisfied: threadpoolctl>=2.0.0 in /home/brenoav/miniconda3/lib/python3.11/site-packages (from scikit-learn>=0.20.0->category_encoders) (3.2.0)\n",
      "Requirement already satisfied: packaging>=21.3 in /home/brenoav/miniconda3/lib/python3.11/site-packages (from statsmodels>=0.9.0->category_encoders) (23.1)\n"
     ]
    }
   ],
   "source": [
    "!pip install category_encoders"
   ]
  },
  {
   "cell_type": "code",
   "execution_count": 15,
   "id": "5598c524-72a0-4fa2-af1b-4697c5805541",
   "metadata": {},
   "outputs": [],
   "source": [
    "from category_encoders.hashing import HashingEncoder"
   ]
  },
  {
   "cell_type": "code",
   "execution_count": 16,
   "id": "3ee72504-6793-483c-bab3-a04d938a8848",
   "metadata": {},
   "outputs": [
    {
     "name": "stdout",
     "output_type": "stream",
     "text": [
      "--- Before ---\n",
      "       author_name\n",
      "0      Jane Austen\n",
      "1     J.K. Rowling\n",
      "2       Mark Twain\n",
      "3    George Orwell\n",
      "4  Agatha Christie\n",
      "5  Agatha Chirstie\n",
      "6      Jane Austen\n"
     ]
    }
   ],
   "source": [
    "df = pd.DataFrame(data=[\"Jane Austen\", \"J.K. Rowling\", \"Mark Twain\", \"George Orwell\", \n",
    "                        \"Agatha Christie\", \"Agatha Chirstie\", \"Jane Austen\"],\n",
    "                  columns=[\"author_name\"])\n",
    "print(\"--- Before ---\")\n",
    "print(df)"
   ]
  },
  {
   "cell_type": "code",
   "execution_count": 17,
   "id": "94d39aa7-4816-4ec1-82ce-0f33b6d09aa7",
   "metadata": {},
   "outputs": [
    {
     "name": "stdout",
     "output_type": "stream",
     "text": [
      "--- After ---\n",
      "       author_name  author_name_col_0  author_name_col_1  author_name_col_2\n",
      "0      Jane Austen                  0                  0                  1\n",
      "1     J.K. Rowling                  1                  0                  0\n",
      "2       Mark Twain                  1                  0                  0\n",
      "3    George Orwell                  0                  0                  1\n",
      "4  Agatha Christie                  1                  0                  0\n",
      "5  Agatha Chirstie                  1                  0                  0\n",
      "6      Jane Austen                  0                  0                  1\n"
     ]
    }
   ],
   "source": [
    "enc = HashingEncoder(n_components=3, hash_method=\"md5\")\n",
    "hash_df = enc.fit_transform(df[\"author_name\"].values)\n",
    "hash_df = hash_df.add_prefix(\"author_name_\", axis=1)\n",
    "df = pd.concat([df, hash_df], axis=1)\n",
    "print(\"--- After ---\")\n",
    "print(df)"
   ]
  },
  {
   "cell_type": "code",
   "execution_count": 18,
   "id": "b7fca599-cef7-4e3d-a556-d0247509eb9a",
   "metadata": {},
   "outputs": [
    {
     "data": {
      "text/html": [
       "<div>\n",
       "<style scoped>\n",
       "    .dataframe tbody tr th:only-of-type {\n",
       "        vertical-align: middle;\n",
       "    }\n",
       "\n",
       "    .dataframe tbody tr th {\n",
       "        vertical-align: top;\n",
       "    }\n",
       "\n",
       "    .dataframe thead th {\n",
       "        text-align: right;\n",
       "    }\n",
       "</style>\n",
       "<table border=\"1\" class=\"dataframe\">\n",
       "  <thead>\n",
       "    <tr style=\"text-align: right;\">\n",
       "      <th></th>\n",
       "      <th>col_0</th>\n",
       "      <th>col_1</th>\n",
       "      <th>col_2</th>\n",
       "    </tr>\n",
       "  </thead>\n",
       "  <tbody>\n",
       "    <tr>\n",
       "      <th>0</th>\n",
       "      <td>0</td>\n",
       "      <td>1</td>\n",
       "      <td>0</td>\n",
       "    </tr>\n",
       "  </tbody>\n",
       "</table>\n",
       "</div>"
      ],
      "text/plain": [
       "   col_0  col_1  col_2\n",
       "0      0      1      0"
      ]
     },
     "execution_count": 18,
     "metadata": {},
     "output_type": "execute_result"
    }
   ],
   "source": [
    "enc.transform([\"BrenoAV\"])  # We can use for any other class without be present before on fit"
   ]
  },
  {
   "cell_type": "markdown",
   "id": "71583bac-8b27-414b-9627-bf9eeb1a2da9",
   "metadata": {},
   "source": [
    "✅ Efficient when the data has very high cardinality (reducing dimensionality)\n",
    "\n",
    "✅ Memory Efficient because we don't need to generate again for new data never seen before\n",
    "\n",
    "✅ Dimensionality reduction\n",
    "\n",
    "🚫 Loss of information because we are grouping the data\n",
    "\n",
    "🚫 Don't use in Ordinal Data because can be aggregate between simple and premium, for example."
   ]
  },
  {
   "cell_type": "markdown",
   "id": "741e3a2e-1c26-43f5-97fa-3ec9df4e325c",
   "metadata": {},
   "source": [
    "# Target (mean) Encoder"
   ]
  },
  {
   "cell_type": "code",
   "execution_count": 19,
   "id": "8d053345-6813-4e34-a8ec-7e0b3df1f7d1",
   "metadata": {},
   "outputs": [],
   "source": [
    "from sklearn.preprocessing import TargetEncoder"
   ]
  },
  {
   "cell_type": "code",
   "execution_count": 20,
   "id": "21460721-bb06-40aa-827f-6dbe369d5b0d",
   "metadata": {},
   "outputs": [
    {
     "name": "stdout",
     "output_type": "stream",
     "text": [
      "--- Before ---\n",
      "  payment_method fraud\n",
      "0          ideal     0\n",
      "1         klarna     1\n",
      "2    credit_card     1\n",
      "3    credit_card     1\n",
      "4         klarna     0\n",
      "5          ideal     0\n",
      "6    credit_card     0\n"
     ]
    }
   ],
   "source": [
    "df = pd.DataFrame(data=[[\"ideal\", 0], [\"klarna\", 1], [\"credit_card\", 1], [\"credit_card\", 1],\n",
    "                        [\"klarna\", 0], [\"ideal\", 0], [\"credit_card\", 0]],\n",
    "                  columns=[[\"payment_method\", \"fraud\"]])\n",
    "print(\"--- Before ---\")\n",
    "print(df)"
   ]
  },
  {
   "cell_type": "code",
   "execution_count": 21,
   "id": "489a7d6f-39d7-4133-9db1-072a50a8a853",
   "metadata": {},
   "outputs": [
    {
     "name": "stdout",
     "output_type": "stream",
     "text": [
      "--- After ---\n",
      "  payment_method fraud payment_method_target\n",
      "0          ideal     0          2.142857e-09\n",
      "1         klarna     1          5.000000e-01\n",
      "2    credit_card     1          6.666667e-01\n",
      "3    credit_card     1          6.666667e-01\n",
      "4         klarna     0          5.000000e-01\n",
      "5          ideal     0          2.142857e-09\n",
      "6    credit_card     0          6.666667e-01\n"
     ]
    }
   ],
   "source": [
    "# A high `smooth` parameter puts more weight on global mean on the categorical encodings\n",
    "# On the other hand, a low `smooth` parameter puts more weight on target conditioned on the value of the categorical\n",
    "enc = TargetEncoder(target_type=\"continuous\", smooth=1e-8)\n",
    "enc.fit(df[\"payment_method\"].values, y=df[\"fraud\"].values.reshape(-1))\n",
    "target_df = enc.transform(df[\"payment_method\"].values)\n",
    "df[\"payment_method_target\"] = target_df\n",
    "print(\"--- After ---\")\n",
    "print(df)"
   ]
  },
  {
   "cell_type": "markdown",
   "id": "7f68d8cf-ff38-4447-8036-30e4ac49e375",
   "metadata": {},
   "source": [
    "**Note: it is a Bayesian technique because we use the dependency of categorical/target variables to encode the categorical data,\n",
    "in my mind is like replacing the categorical data with the posterior**\n",
    "\n",
    "✅ Used when we have high cardinality\n",
    "\n",
    "✅ Target is **continuous** (regression) or **binary** (classification)\n",
    "\n",
    "🚫 When has some dependencies between the categorical features (we can combine features before apply)\n",
    "\n",
    "🚫 Feature-target has a relationship that changes over the time (because we are taking the mean and cannot be good for this case)\n"
   ]
  },
  {
   "cell_type": "markdown",
   "id": "9f79b06f-f915-4dd0-ae47-6849aea148b3",
   "metadata": {},
   "source": [
    "# Weight of Evidence Encoder (WoE)"
   ]
  },
  {
   "cell_type": "markdown",
   "id": "da9fe446-79bb-435b-987f-54e3bfb8e9e5",
   "metadata": {},
   "source": [
    "$$WoE = \\log\\left(\\frac{p(Y=1)}{p(Y=0)}\\right)$$"
   ]
  },
  {
   "cell_type": "code",
   "execution_count": 22,
   "id": "0945e434-1795-4db4-a2fc-961bc9003f31",
   "metadata": {},
   "outputs": [],
   "source": [
    "from category_encoders.woe import WOEEncoder"
   ]
  },
  {
   "cell_type": "code",
   "execution_count": 23,
   "id": "8ee6a7b5-7244-4412-a5b7-b27c7262fdbe",
   "metadata": {},
   "outputs": [
    {
     "name": "stdout",
     "output_type": "stream",
     "text": [
      "--- Before ---\n",
      "  payment_method fraud\n",
      "0          ideal     0\n",
      "1          ideal     1\n",
      "2    credit_card     1\n",
      "3    credit_card     1\n",
      "4          ideal     0\n",
      "5          ideal     0\n",
      "6    credit_card     0\n"
     ]
    }
   ],
   "source": [
    "df = pd.DataFrame(data=[[\"ideal\", 0], [\"ideal\", 1], [\"credit_card\", 1], [\"credit_card\", 1],\n",
    "                        [\"ideal\", 0], [\"ideal\", 0], [\"credit_card\", 0]],\n",
    "                  columns=[[\"payment_method\", \"fraud\"]])\n",
    "print(\"--- Before ---\")\n",
    "print(df)"
   ]
  },
  {
   "cell_type": "code",
   "execution_count": 24,
   "id": "728eec01-4be4-4b87-b392-b21dbb3e2712",
   "metadata": {},
   "outputs": [
    {
     "name": "stdout",
     "output_type": "stream",
     "text": [
      "--- After ---\n",
      "  payment_method fraud woe_payment_method\n",
      "0          ideal     0          -0.510826\n",
      "1          ideal     1          -0.510826\n",
      "2    credit_card     1           0.587787\n",
      "3    credit_card     1           0.587787\n",
      "4          ideal     0          -0.510826\n",
      "5          ideal     0          -0.510826\n",
      "6    credit_card     0           0.587787\n"
     ]
    }
   ],
   "source": [
    "enc = WOEEncoder(regularization=1)\n",
    "enc.fit(df[\"payment_method\"].values, df[\"fraud\"].values.reshape(-1))\n",
    "woe_df = enc.transform(df[\"payment_method\"].values)\n",
    "df[\"woe_payment_method\"] = woe_df\n",
    "print(\"--- After ---\")\n",
    "print(df)"
   ]
  },
  {
   "cell_type": "markdown",
   "id": "05e31af2-6ae6-4310-a2fc-c247c4e40a21",
   "metadata": {},
   "source": [
    "✅ It's good to apply on nominal data (data mutually excluded), for example, car, bus, train, tram or bicycle.\n",
    "\n",
    "✅ Logistic Regression models (model that generate discrete outcome of the output)\n",
    "\n",
    "🚫 Not good for ordinal data"
   ]
  },
  {
   "cell_type": "markdown",
   "id": "23028f25-14f2-4e23-a38a-997932bc8bc3",
   "metadata": {},
   "source": [
    "# CatBoost"
   ]
  },
  {
   "cell_type": "code",
   "execution_count": 25,
   "id": "a9c19b61-a376-49eb-9524-cca81fdeb029",
   "metadata": {},
   "outputs": [],
   "source": [
    "from category_encoders.cat_boost import CatBoostEncoder"
   ]
  },
  {
   "cell_type": "code",
   "execution_count": 26,
   "id": "7beef065-ba04-4b66-9171-3095a08ab65e",
   "metadata": {},
   "outputs": [
    {
     "name": "stdout",
     "output_type": "stream",
     "text": [
      "--- Before ---\n",
      "  payment_method fraud\n",
      "0          ideal     0\n",
      "1         klarna     1\n",
      "2    credit_card     1\n",
      "3    credit_card     1\n",
      "4         klarna     0\n",
      "5          ideal     0\n",
      "6    credit_card     0\n"
     ]
    }
   ],
   "source": [
    "df = pd.DataFrame(data=[[\"ideal\", 0], [\"klarna\", 1], [\"credit_card\", 1], [\"credit_card\", 1],\n",
    "                        [\"klarna\", 0], [\"ideal\", 0], [\"credit_card\", 0]],\n",
    "                  columns=[[\"payment_method\", \"fraud\"]])\n",
    "print(\"--- Before ---\")\n",
    "print(df)"
   ]
  },
  {
   "cell_type": "code",
   "execution_count": 27,
   "id": "1a30992f-03af-4c34-935f-eb4c56b904d7",
   "metadata": {},
   "outputs": [
    {
     "data": {
      "text/html": [
       "<div>\n",
       "<style scoped>\n",
       "    .dataframe tbody tr th:only-of-type {\n",
       "        vertical-align: middle;\n",
       "    }\n",
       "\n",
       "    .dataframe tbody tr th {\n",
       "        vertical-align: top;\n",
       "    }\n",
       "\n",
       "    .dataframe thead th {\n",
       "        text-align: right;\n",
       "    }\n",
       "</style>\n",
       "<table border=\"1\" class=\"dataframe\">\n",
       "  <thead>\n",
       "    <tr style=\"text-align: right;\">\n",
       "      <th></th>\n",
       "      <th>0</th>\n",
       "    </tr>\n",
       "  </thead>\n",
       "  <tbody>\n",
       "    <tr>\n",
       "      <th>0</th>\n",
       "      <td>0.428571</td>\n",
       "    </tr>\n",
       "    <tr>\n",
       "      <th>1</th>\n",
       "      <td>0.428571</td>\n",
       "    </tr>\n",
       "    <tr>\n",
       "      <th>2</th>\n",
       "      <td>0.428571</td>\n",
       "    </tr>\n",
       "    <tr>\n",
       "      <th>3</th>\n",
       "      <td>0.714286</td>\n",
       "    </tr>\n",
       "    <tr>\n",
       "      <th>4</th>\n",
       "      <td>0.714286</td>\n",
       "    </tr>\n",
       "    <tr>\n",
       "      <th>5</th>\n",
       "      <td>0.214286</td>\n",
       "    </tr>\n",
       "    <tr>\n",
       "      <th>6</th>\n",
       "      <td>0.809524</td>\n",
       "    </tr>\n",
       "  </tbody>\n",
       "</table>\n",
       "</div>"
      ],
      "text/plain": [
       "          0\n",
       "0  0.428571\n",
       "1  0.428571\n",
       "2  0.428571\n",
       "3  0.714286\n",
       "4  0.714286\n",
       "5  0.214286\n",
       "6  0.809524"
      ]
     },
     "execution_count": 27,
     "metadata": {},
     "output_type": "execute_result"
    }
   ],
   "source": [
    "enc = CatBoostEncoder()\n",
    "catboost_df = enc.fit_transform(df[\"payment_method\"].values, df[\"fraud\"].values.reshape(-1))\n",
    "catboost_df"
   ]
  },
  {
   "cell_type": "markdown",
   "id": "dc96f9fc-985f-4bf1-9254-983bf92dbdee",
   "metadata": {},
   "source": [
    "✅ Target time dependency\n",
    "\n",
    "✅ There is a relationship between the category and target over the time\n",
    "\n",
    "🚫 Limited data (small observations of each category)\n",
    "\n",
    "🚫 Computationally expensive because the computation is make for each row"
   ]
  },
  {
   "cell_type": "markdown",
   "id": "552ba9e2-bfe1-4c38-b014-01fef1139ab3",
   "metadata": {},
   "source": [
    "# END NOTES"
   ]
  },
  {
   "cell_type": "markdown",
   "id": "dcce9be3-76a1-441d-9c78-529ac8a5685a",
   "metadata": {},
   "source": [
    "This Jupyter Notebook was created by **BrenoAV**. For any inquiries or feedback, please feel free to create an [issue on GitHub](https://github.com/BrenoAV/MachineLearning-Studies/issues) 📣."
   ]
  },
  {
   "cell_type": "code",
   "execution_count": null,
   "id": "d8a2abfa-7860-436e-8182-607fc9706714",
   "metadata": {},
   "outputs": [],
   "source": []
  }
 ],
 "metadata": {
  "kernelspec": {
   "display_name": "Python 3 (ipykernel)",
   "language": "python",
   "name": "python3"
  },
  "language_info": {
   "codemirror_mode": {
    "name": "ipython",
    "version": 3
   },
   "file_extension": ".py",
   "mimetype": "text/x-python",
   "name": "python",
   "nbconvert_exporter": "python",
   "pygments_lexer": "ipython3",
   "version": "3.11.5"
  }
 },
 "nbformat": 4,
 "nbformat_minor": 5
}
