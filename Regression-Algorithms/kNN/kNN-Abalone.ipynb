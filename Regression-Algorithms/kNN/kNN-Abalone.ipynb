{
 "cells": [
  {
   "cell_type": "markdown",
   "id": "382fbe44-80e6-4dfb-ad43-33ac8cfe4011",
   "metadata": {},
   "source": [
    "# Abalone Dataset\n",
    "\n",
    "Link of the dataset: [https://archive.ics.uci.edu/ml/machine-learning-databases/abalone/abalone.data](https://archive.ics.uci.edu/ml/machine-learning-databases/abalone/abalone.data)\n",
    "\n",
    "- **Author:** BrenoAV\n",
    "- **Last modified date:** 10-28-2023"
   ]
  },
  {
   "cell_type": "markdown",
   "id": "ca19ec71-b4f2-4b29-a1b0-ebdbbf9ee1aa",
   "metadata": {},
   "source": [
    "# Load Dataset"
   ]
  },
  {
   "cell_type": "code",
   "execution_count": 1,
   "id": "7ed9737d-5f05-41ae-932f-c36cb52d0a38",
   "metadata": {},
   "outputs": [],
   "source": [
    "import pandas as pd"
   ]
  },
  {
   "cell_type": "code",
   "execution_count": 2,
   "id": "375eb57f-d3f2-4896-a487-998e69761c53",
   "metadata": {},
   "outputs": [],
   "source": [
    "url = (\n",
    "    \"https://archive.ics.uci.edu/ml/machine-learning-databases/abalone/abalone.data\"\n",
    ")\n",
    "headers = [\"sex\", \"length\", \"diameter\", \"height\", \"whole_height\", \"shucked_weight\", \"viscera_weight\", \"shell_weight\", \"rings\"]\n",
    "abalone_df = pd.read_csv(url, header=None, names=headers)"
   ]
  },
  {
   "cell_type": "code",
   "execution_count": 3,
   "id": "f1ed9ec4-33a4-47ac-9870-e238f1f235ad",
   "metadata": {},
   "outputs": [
    {
     "data": {
      "text/html": [
       "<div>\n",
       "<style scoped>\n",
       "    .dataframe tbody tr th:only-of-type {\n",
       "        vertical-align: middle;\n",
       "    }\n",
       "\n",
       "    .dataframe tbody tr th {\n",
       "        vertical-align: top;\n",
       "    }\n",
       "\n",
       "    .dataframe thead th {\n",
       "        text-align: right;\n",
       "    }\n",
       "</style>\n",
       "<table border=\"1\" class=\"dataframe\">\n",
       "  <thead>\n",
       "    <tr style=\"text-align: right;\">\n",
       "      <th></th>\n",
       "      <th>sex</th>\n",
       "      <th>length</th>\n",
       "      <th>diameter</th>\n",
       "      <th>height</th>\n",
       "      <th>whole_height</th>\n",
       "      <th>shucked_weight</th>\n",
       "      <th>viscera_weight</th>\n",
       "      <th>shell_weight</th>\n",
       "      <th>rings</th>\n",
       "    </tr>\n",
       "  </thead>\n",
       "  <tbody>\n",
       "    <tr>\n",
       "      <th>0</th>\n",
       "      <td>M</td>\n",
       "      <td>0.455</td>\n",
       "      <td>0.365</td>\n",
       "      <td>0.095</td>\n",
       "      <td>0.5140</td>\n",
       "      <td>0.2245</td>\n",
       "      <td>0.1010</td>\n",
       "      <td>0.150</td>\n",
       "      <td>15</td>\n",
       "    </tr>\n",
       "    <tr>\n",
       "      <th>1</th>\n",
       "      <td>M</td>\n",
       "      <td>0.350</td>\n",
       "      <td>0.265</td>\n",
       "      <td>0.090</td>\n",
       "      <td>0.2255</td>\n",
       "      <td>0.0995</td>\n",
       "      <td>0.0485</td>\n",
       "      <td>0.070</td>\n",
       "      <td>7</td>\n",
       "    </tr>\n",
       "    <tr>\n",
       "      <th>2</th>\n",
       "      <td>F</td>\n",
       "      <td>0.530</td>\n",
       "      <td>0.420</td>\n",
       "      <td>0.135</td>\n",
       "      <td>0.6770</td>\n",
       "      <td>0.2565</td>\n",
       "      <td>0.1415</td>\n",
       "      <td>0.210</td>\n",
       "      <td>9</td>\n",
       "    </tr>\n",
       "    <tr>\n",
       "      <th>3</th>\n",
       "      <td>M</td>\n",
       "      <td>0.440</td>\n",
       "      <td>0.365</td>\n",
       "      <td>0.125</td>\n",
       "      <td>0.5160</td>\n",
       "      <td>0.2155</td>\n",
       "      <td>0.1140</td>\n",
       "      <td>0.155</td>\n",
       "      <td>10</td>\n",
       "    </tr>\n",
       "    <tr>\n",
       "      <th>4</th>\n",
       "      <td>I</td>\n",
       "      <td>0.330</td>\n",
       "      <td>0.255</td>\n",
       "      <td>0.080</td>\n",
       "      <td>0.2050</td>\n",
       "      <td>0.0895</td>\n",
       "      <td>0.0395</td>\n",
       "      <td>0.055</td>\n",
       "      <td>7</td>\n",
       "    </tr>\n",
       "  </tbody>\n",
       "</table>\n",
       "</div>"
      ],
      "text/plain": [
       "  sex  length  diameter  height  whole_height  shucked_weight  viscera_weight  \\\n",
       "0   M   0.455     0.365   0.095        0.5140          0.2245          0.1010   \n",
       "1   M   0.350     0.265   0.090        0.2255          0.0995          0.0485   \n",
       "2   F   0.530     0.420   0.135        0.6770          0.2565          0.1415   \n",
       "3   M   0.440     0.365   0.125        0.5160          0.2155          0.1140   \n",
       "4   I   0.330     0.255   0.080        0.2050          0.0895          0.0395   \n",
       "\n",
       "   shell_weight  rings  \n",
       "0         0.150     15  \n",
       "1         0.070      7  \n",
       "2         0.210      9  \n",
       "3         0.155     10  \n",
       "4         0.055      7  "
      ]
     },
     "execution_count": 3,
     "metadata": {},
     "output_type": "execute_result"
    }
   ],
   "source": [
    "abalone_df.head()"
   ]
  },
  {
   "cell_type": "code",
   "execution_count": 4,
   "id": "482ba431-e80a-4023-9e0e-210fb96a8132",
   "metadata": {},
   "outputs": [],
   "source": [
    "# We won't use the sex to predict the number of rings\n",
    "abalone_df.drop(columns=[\"sex\"], inplace=True)  "
   ]
  },
  {
   "cell_type": "markdown",
   "id": "0b385894-3723-4efa-9ba9-e4382db7101a",
   "metadata": {},
   "source": [
    "# Exploring Dataset"
   ]
  },
  {
   "cell_type": "code",
   "execution_count": 5,
   "id": "d5254629-4793-4162-b100-9a4ed289778d",
   "metadata": {},
   "outputs": [],
   "source": [
    "import matplotlib.pyplot as plt"
   ]
  },
  {
   "cell_type": "code",
   "execution_count": 6,
   "id": "517389a2-ec74-4edf-b12c-5dfb7cc4f3e9",
   "metadata": {},
   "outputs": [
    {
     "name": "stdout",
     "output_type": "stream",
     "text": [
      "<class 'pandas.core.frame.DataFrame'>\n",
      "RangeIndex: 4177 entries, 0 to 4176\n",
      "Data columns (total 8 columns):\n",
      " #   Column          Non-Null Count  Dtype  \n",
      "---  ------          --------------  -----  \n",
      " 0   length          4177 non-null   float64\n",
      " 1   diameter        4177 non-null   float64\n",
      " 2   height          4177 non-null   float64\n",
      " 3   whole_height    4177 non-null   float64\n",
      " 4   shucked_weight  4177 non-null   float64\n",
      " 5   viscera_weight  4177 non-null   float64\n",
      " 6   shell_weight    4177 non-null   float64\n",
      " 7   rings           4177 non-null   int64  \n",
      "dtypes: float64(7), int64(1)\n",
      "memory usage: 261.2 KB\n"
     ]
    }
   ],
   "source": [
    "abalone_df.info()"
   ]
  },
  {
   "cell_type": "markdown",
   "id": "64e3cf3c-f403-47b1-bac0-397550d8e00c",
   "metadata": {},
   "source": [
    "## Target Variable Analysis"
   ]
  },
  {
   "cell_type": "code",
   "execution_count": 7,
   "id": "b0faed45-f531-4054-bb7b-1ad45fe78b9b",
   "metadata": {},
   "outputs": [
    {
     "data": {
      "text/plain": [
       "count    4177.000000\n",
       "mean        9.933684\n",
       "std         3.224169\n",
       "min         1.000000\n",
       "25%         8.000000\n",
       "50%         9.000000\n",
       "75%        11.000000\n",
       "max        29.000000\n",
       "Name: rings, dtype: float64"
      ]
     },
     "execution_count": 7,
     "metadata": {},
     "output_type": "execute_result"
    }
   ],
   "source": [
    "abalone_df[\"rings\"].describe()"
   ]
  },
  {
   "cell_type": "code",
   "execution_count": 8,
   "id": "98a89de1-e935-48d5-a646-394144bad7c3",
   "metadata": {},
   "outputs": [
    {
     "data": {
      "image/png": "[encoded data removed]",
      "text/plain": [
       "<Figure size 640x480 with 1 Axes>"
      ]
     },
     "metadata": {},
     "output_type": "display_data"
    }
   ],
   "source": [
    "plt.boxplot(x=abalone_df[\"rings\"])\n",
    "plt.title(\"Boxplot of the `rings`\")\n",
    "plt.show()"
   ]
  },
  {
   "cell_type": "code",
   "execution_count": 9,
   "id": "c43c6a60-0514-42d8-99b6-4d84cb7de528",
   "metadata": {},
   "outputs": [
    {
     "data": {
      "image/png": "[encoded data removed]",
      "text/plain": [
       "<Figure size 640x480 with 1 Axes>"
      ]
     },
     "metadata": {},
     "output_type": "display_data"
    }
   ],
   "source": [
    "plt.hist(x=abalone_df[\"rings\"], bins=15)\n",
    "plt.title(\"Histogram of the `rings`\")\n",
    "plt.show()"
   ]
  },
  {
   "cell_type": "markdown",
   "id": "6d72469d-9964-4711-ad17-1667c45d453b",
   "metadata": {},
   "source": [
    "- The Box Plot shows some \"outliers\", but it's not correct per se remove them because it is related to the nature of variation of the variable (natural variation).\n",
    "- The histogram shows us that the values follow a normal distribution"
   ]
  },
  {
   "cell_type": "markdown",
   "id": "0aa1eea3-49f7-42fb-a141-1d66bbf0ccec",
   "metadata": {},
   "source": [
    "## Correlation of the variables with the target"
   ]
  },
  {
   "cell_type": "code",
   "execution_count": 10,
   "id": "5b654552-aa36-4b41-9aeb-e48c74dbc370",
   "metadata": {},
   "outputs": [
    {
     "data": {
      "text/html": [
       "<div>\n",
       "<style scoped>\n",
       "    .dataframe tbody tr th:only-of-type {\n",
       "        vertical-align: middle;\n",
       "    }\n",
       "\n",
       "    .dataframe tbody tr th {\n",
       "        vertical-align: top;\n",
       "    }\n",
       "\n",
       "    .dataframe thead th {\n",
       "        text-align: right;\n",
       "    }\n",
       "</style>\n",
       "<table border=\"1\" class=\"dataframe\">\n",
       "  <thead>\n",
       "    <tr style=\"text-align: right;\">\n",
       "      <th></th>\n",
       "      <th>length</th>\n",
       "      <th>diameter</th>\n",
       "      <th>height</th>\n",
       "      <th>whole_height</th>\n",
       "      <th>shucked_weight</th>\n",
       "      <th>viscera_weight</th>\n",
       "      <th>shell_weight</th>\n",
       "      <th>rings</th>\n",
       "    </tr>\n",
       "  </thead>\n",
       "  <tbody>\n",
       "    <tr>\n",
       "      <th>length</th>\n",
       "      <td>1.000000</td>\n",
       "      <td>0.986812</td>\n",
       "      <td>0.827554</td>\n",
       "      <td>0.925261</td>\n",
       "      <td>0.897914</td>\n",
       "      <td>0.903018</td>\n",
       "      <td>0.897706</td>\n",
       "      <td>0.556720</td>\n",
       "    </tr>\n",
       "    <tr>\n",
       "      <th>diameter</th>\n",
       "      <td>0.986812</td>\n",
       "      <td>1.000000</td>\n",
       "      <td>0.833684</td>\n",
       "      <td>0.925452</td>\n",
       "      <td>0.893162</td>\n",
       "      <td>0.899724</td>\n",
       "      <td>0.905330</td>\n",
       "      <td>0.574660</td>\n",
       "    </tr>\n",
       "    <tr>\n",
       "      <th>height</th>\n",
       "      <td>0.827554</td>\n",
       "      <td>0.833684</td>\n",
       "      <td>1.000000</td>\n",
       "      <td>0.819221</td>\n",
       "      <td>0.774972</td>\n",
       "      <td>0.798319</td>\n",
       "      <td>0.817338</td>\n",
       "      <td>0.557467</td>\n",
       "    </tr>\n",
       "    <tr>\n",
       "      <th>whole_height</th>\n",
       "      <td>0.925261</td>\n",
       "      <td>0.925452</td>\n",
       "      <td>0.819221</td>\n",
       "      <td>1.000000</td>\n",
       "      <td>0.969405</td>\n",
       "      <td>0.966375</td>\n",
       "      <td>0.955355</td>\n",
       "      <td>0.540390</td>\n",
       "    </tr>\n",
       "    <tr>\n",
       "      <th>shucked_weight</th>\n",
       "      <td>0.897914</td>\n",
       "      <td>0.893162</td>\n",
       "      <td>0.774972</td>\n",
       "      <td>0.969405</td>\n",
       "      <td>1.000000</td>\n",
       "      <td>0.931961</td>\n",
       "      <td>0.882617</td>\n",
       "      <td>0.420884</td>\n",
       "    </tr>\n",
       "    <tr>\n",
       "      <th>viscera_weight</th>\n",
       "      <td>0.903018</td>\n",
       "      <td>0.899724</td>\n",
       "      <td>0.798319</td>\n",
       "      <td>0.966375</td>\n",
       "      <td>0.931961</td>\n",
       "      <td>1.000000</td>\n",
       "      <td>0.907656</td>\n",
       "      <td>0.503819</td>\n",
       "    </tr>\n",
       "    <tr>\n",
       "      <th>shell_weight</th>\n",
       "      <td>0.897706</td>\n",
       "      <td>0.905330</td>\n",
       "      <td>0.817338</td>\n",
       "      <td>0.955355</td>\n",
       "      <td>0.882617</td>\n",
       "      <td>0.907656</td>\n",
       "      <td>1.000000</td>\n",
       "      <td>0.627574</td>\n",
       "    </tr>\n",
       "    <tr>\n",
       "      <th>rings</th>\n",
       "      <td>0.556720</td>\n",
       "      <td>0.574660</td>\n",
       "      <td>0.557467</td>\n",
       "      <td>0.540390</td>\n",
       "      <td>0.420884</td>\n",
       "      <td>0.503819</td>\n",
       "      <td>0.627574</td>\n",
       "      <td>1.000000</td>\n",
       "    </tr>\n",
       "  </tbody>\n",
       "</table>\n",
       "</div>"
      ],
      "text/plain": [
       "                  length  diameter    height  whole_height  shucked_weight  \\\n",
       "length          1.000000  0.986812  0.827554      0.925261        0.897914   \n",
       "diameter        0.986812  1.000000  0.833684      0.925452        0.893162   \n",
       "height          0.827554  0.833684  1.000000      0.819221        0.774972   \n",
       "whole_height    0.925261  0.925452  0.819221      1.000000        0.969405   \n",
       "shucked_weight  0.897914  0.893162  0.774972      0.969405        1.000000   \n",
       "viscera_weight  0.903018  0.899724  0.798319      0.966375        0.931961   \n",
       "shell_weight    0.897706  0.905330  0.817338      0.955355        0.882617   \n",
       "rings           0.556720  0.574660  0.557467      0.540390        0.420884   \n",
       "\n",
       "                viscera_weight  shell_weight     rings  \n",
       "length                0.903018      0.897706  0.556720  \n",
       "diameter              0.899724      0.905330  0.574660  \n",
       "height                0.798319      0.817338  0.557467  \n",
       "whole_height          0.966375      0.955355  0.540390  \n",
       "shucked_weight        0.931961      0.882617  0.420884  \n",
       "viscera_weight        1.000000      0.907656  0.503819  \n",
       "shell_weight          0.907656      1.000000  0.627574  \n",
       "rings                 0.503819      0.627574  1.000000  "
      ]
     },
     "execution_count": 10,
     "metadata": {},
     "output_type": "execute_result"
    }
   ],
   "source": [
    "corr_matrice = abalone_df.corr()\n",
    "corr_matrice"
   ]
  },
  {
   "cell_type": "markdown",
   "id": "9dfa052e-3360-4253-9a01-ca43879145ac",
   "metadata": {},
   "source": [
    "Seems that shell_weight is the variable more correlated with the rings variable, let's check the 2D graph"
   ]
  },
  {
   "cell_type": "code",
   "execution_count": 11,
   "id": "b1f5961d-956b-4d27-9f87-39b2f521822f",
   "metadata": {},
   "outputs": [
    {
     "data": {
      "image/png": "[encoded data removed]",
      "text/plain": [
       "<Figure size 640x480 with 1 Axes>"
      ]
     },
     "metadata": {},
     "output_type": "display_data"
    }
   ],
   "source": [
    "plt.scatter(x=abalone_df[\"shell_weight\"], y=abalone_df[\"rings\"], marker=\"x\", color=\"salmon\", label=\"shell_weight\")\n",
    "plt.title(\"Plot shell_weight x rings\")\n",
    "plt.xlabel(\"shell_weight\")\n",
    "plt.ylabel(\"rings\")\n",
    "plt.show()"
   ]
  },
  {
   "cell_type": "markdown",
   "id": "e6a6ef71-bf30-4be3-8ca6-daff676e9f48",
   "metadata": {},
   "source": [
    "It does not seem is a linear relation with the shell_weights or other variables."
   ]
  },
  {
   "cell_type": "markdown",
   "id": "856d2f25-2cd2-40ff-8b77-e0240e06dd29",
   "metadata": {},
   "source": [
    "# Split dataset"
   ]
  },
  {
   "cell_type": "code",
   "execution_count": 12,
   "id": "0b7c9e30-b9f9-4864-b6c9-dd9264b65524",
   "metadata": {},
   "outputs": [],
   "source": [
    "from sklearn.model_selection import train_test_split"
   ]
  },
  {
   "cell_type": "code",
   "execution_count": 13,
   "id": "3165fab9-9861-4577-a74d-065ce6478eda",
   "metadata": {},
   "outputs": [],
   "source": [
    "X = abalone_df.drop(\"rings\", axis=1)\n",
    "y = abalone_df[[\"rings\"]]"
   ]
  },
  {
   "cell_type": "code",
   "execution_count": 14,
   "id": "61d1e0cc-b6c0-44fd-abde-b73d4785f210",
   "metadata": {},
   "outputs": [],
   "source": [
    "X = X.values"
   ]
  },
  {
   "cell_type": "code",
   "execution_count": 15,
   "id": "8de47916-ded0-4594-9795-0f84733907ff",
   "metadata": {},
   "outputs": [],
   "source": [
    "y = y.values"
   ]
  },
  {
   "cell_type": "code",
   "execution_count": 16,
   "id": "644ed8cd-5d83-4d88-a025-640084921feb",
   "metadata": {},
   "outputs": [],
   "source": [
    "X_train, X_test, y_train, y_test = train_test_split(X, y, test_size=0.2, random_state=123)"
   ]
  },
  {
   "cell_type": "markdown",
   "id": "de032dfc-3415-4d17-834e-c2239337f18b",
   "metadata": {},
   "source": [
    "# KNN"
   ]
  },
  {
   "cell_type": "markdown",
   "id": "b6fd3b00-d939-4a35-b28a-33a0d6567570",
   "metadata": {},
   "source": [
    "## From Scratch"
   ]
  },
  {
   "cell_type": "code",
   "execution_count": 17,
   "id": "f33efdac-27f5-448f-8d4f-903f6d49f828",
   "metadata": {},
   "outputs": [],
   "source": [
    "import numpy as np\n",
    "from sklearn.metrics import mean_squared_error"
   ]
  },
  {
   "cell_type": "code",
   "execution_count": 44,
   "id": "d844a675-4eb6-494d-a728-f3ae3bbddb94",
   "metadata": {},
   "outputs": [
    {
     "name": "stdout",
     "output_type": "stream",
     "text": [
      "MSE Error = 2.8134\n",
      "RMSE Error = 1.6773\n"
     ]
    }
   ],
   "source": [
    "# This is my implementation from scratch of the KNN Algorithm\n",
    "# More implementations here: https://github.com/BrenoAV/ml-from-scratch\n",
    "import sys\n",
    "sys.path.append(\"/home/brenoav/GitHub/ml-from-scratch/\")\n",
    "from src.knn import KNNRegressor\n",
    "\n",
    "knn = KNNRegressor(X, y)\n",
    "y_preds = []\n",
    "for x in X_test:\n",
    "    y_preds.append(knn.predict(x, k=3))\n",
    "mse = mean_squared_error(y_test, y_preds)\n",
    "rmse = mean_squared_error(y_test, y_preds, squared=False)\n",
    "print(f\"MSE Error = {mse:.4f}\\nRMSE Error = {rmse:.4f}\")"
   ]
  },
  {
   "cell_type": "markdown",
   "id": "3fac0a28-4402-4936-8882-92bb0c041b19",
   "metadata": {},
   "source": [
    "## Scikit-Learn"
   ]
  },
  {
   "cell_type": "markdown",
   "id": "04e1a453-f9d8-4918-bf9b-b1a5b37a52bd",
   "metadata": {},
   "source": [
    "I'll use GridSearchCV to test a lot of n_neighbors (1~30) and cross validation with 5 folders (default)"
   ]
  },
  {
   "cell_type": "code",
   "execution_count": 47,
   "id": "1db0f579-5e94-4aad-9b05-3db96d8ad794",
   "metadata": {},
   "outputs": [],
   "source": [
    "from sklearn.model_selection import GridSearchCV\n",
    "from sklearn.neighbors import KNeighborsRegressor"
   ]
  },
  {
   "cell_type": "code",
   "execution_count": 48,
   "id": "cb8e527c-72b5-45fd-a8a2-9320f359d1b6",
   "metadata": {},
   "outputs": [],
   "source": [
    "parameters = {\"n_neighbors\": range(1, 30)}"
   ]
  },
  {
   "cell_type": "code",
   "execution_count": 49,
   "id": "cd6ef2d3-6e2c-4d03-a2a8-175990a62762",
   "metadata": {},
   "outputs": [],
   "source": [
    "knn = KNeighborsRegressor()"
   ]
  },
  {
   "cell_type": "code",
   "execution_count": 53,
   "id": "a2f4d4fe-ff2a-4e64-a1e1-178eb949a71a",
   "metadata": {},
   "outputs": [
    {
     "name": "stdout",
     "output_type": "stream",
     "text": [
      "--- Best Parameters ---\n",
      "{'n_neighbors': 15}\n",
      "--- Score ---\n",
      "0.5527\n"
     ]
    }
   ],
   "source": [
    "reg = GridSearchCV(knn, param_grid=parameters)\n",
    "reg.fit(X_train, y_train)\n",
    "print(\"--- Best Parameters ---\")\n",
    "print(reg.best_params_)\n",
    "print(\"--- Score ---\")\n",
    "print(f\"{reg.best_score_:.4f}\")\n"
   ]
  },
  {
   "cell_type": "code",
   "execution_count": 64,
   "id": "7bbeb9b1-012a-43bf-bff8-126b53d59151",
   "metadata": {},
   "outputs": [
    {
     "data": {
      "image/png": "[encoded data removed]",
      "text/plain": [
       "<Figure size 1000x600 with 1 Axes>"
      ]
     },
     "metadata": {},
     "output_type": "display_data"
    }
   ],
   "source": [
    "# Obtain the scores for different k values\n",
    "scores = reg.cv_results_[\"mean_test_score\"]\n",
    "plt.figure(figsize=(10, 6))\n",
    "plt.plot(range(1, 30), scores, color=\"salmon\", label=\"scores\")\n",
    "plt.vlines(x=reg.best_params_[\"n_neighbors\"], \n",
    "           ymin=min(scores), ymax=max(scores), \n",
    "           linestyle=\"dotted\", \n",
    "           color=\"green\", \n",
    "           label=\"best value\")\n",
    "plt.title(\"k number vs scores values\")\n",
    "plt.xlabel(\"k\")\n",
    "plt.ylabel(\"score\")\n",
    "plt.legend()\n",
    "plt.show()"
   ]
  },
  {
   "cell_type": "markdown",
   "id": "c9d52a94-fce2-4b31-86d1-b7d49c9d0cb4",
   "metadata": {},
   "source": [
    "## Metrics on the test dataset"
   ]
  },
  {
   "cell_type": "code",
   "execution_count": 65,
   "id": "4cddecd0-a54c-49e0-b48e-16b3af94d24c",
   "metadata": {},
   "outputs": [],
   "source": [
    "y_pred = reg.predict(X_test)"
   ]
  },
  {
   "cell_type": "code",
   "execution_count": 66,
   "id": "d8fae999-654e-4faf-9429-a6e7812f6260",
   "metadata": {},
   "outputs": [],
   "source": [
    "mse = mean_squared_error(y_test, y_pred)\n",
    "rmse = mean_squared_error(y_test, y_pred, squared=False)"
   ]
  },
  {
   "cell_type": "code",
   "execution_count": 67,
   "id": "4837d12a-1cce-48f3-9bdb-80bdc372f22f",
   "metadata": {},
   "outputs": [
    {
     "name": "stdout",
     "output_type": "stream",
     "text": [
      "MSE Error = 4.5570\n",
      "RMSE Error = 2.1347\n"
     ]
    }
   ],
   "source": [
    "print(f\"MSE Error = {mse:.4f}\\nRMSE Error = {rmse:.4f}\")"
   ]
  },
  {
   "cell_type": "markdown",
   "id": "add7bacf-4eee-4e08-b0e2-ad14e6e4a2de",
   "metadata": {},
   "source": [
    "The algorithm using the L1 distance created from scratch performs better on this dataset than the scikit-learn 😵‍💫"
   ]
  },
  {
   "cell_type": "code",
   "execution_count": null,
   "id": "101ad1ea-b864-462b-ae32-bbab3541d943",
   "metadata": {},
   "outputs": [],
   "source": []
  }
 ],
 "metadata": {
  "kernelspec": {
   "display_name": "Python 3 (ipykernel)",
   "language": "python",
   "name": "python3"
  },
  "language_info": {
   "codemirror_mode": {
    "name": "ipython",
    "version": 3
   },
   "file_extension": ".py",
   "mimetype": "text/x-python",
   "name": "python",
   "nbconvert_exporter": "python",
   "pygments_lexer": "ipython3",
   "version": "3.11.5"
  }
 },
 "nbformat": 4,
 "nbformat_minor": 5
}
